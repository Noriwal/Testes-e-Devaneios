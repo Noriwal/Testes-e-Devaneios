!pip install pytelegrambotapi
!pip install langchain
!pip install langchain.groq


import telebot
import os
from langchain_groq import ChatGroq
from langchain.prompts import ChatPromptTemplate

# Configurações das APIs
api_xpto3 = '7026889564:AAFULkbVh-D8OV0Sn-pZx_f0bYPF4iF8Ldo'
bot = telebot.TeleBot(api_xpto3)

api_key = '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'
os.environ['GROQ_API_KEY'] = api_key
chat = ChatGroq(model='llama-3.1-70b-versatile')

# Função para criar a resposta do bot
def resposta_bot(mensagem):
    mensagem_modelo = [('system', 'Você é um bot assistente timido e inteligente.')]
    mensagem_modelo += mensagem
    template = ChatPromptTemplate.from_messages(mensagem_modelo)
    chain = template | chat
    return chain.invoke({}).content

# Lista para armazenar o histórico de mensagens
historico_mensagens = []  # Alterado o nome da variável para evitar sombreamento

# Função de verificação
def verificar(mensagem):
    print(f'Usuário: {mensagem.text}')
    return True

# Função de resposta do bot
@bot.message_handler(func=verificar)
def responder(mensagem_telegram):  # Renomeado o parâmetro para evitar sombreamento
    pergunta = mensagem_telegram.text
    if pergunta.lower() == 'sair':
        bot.reply_to(mensagem_telegram, "Bot: Encerrando a conversa.")
        return

    historico_mensagens.append(('user', pergunta))  # Adiciona à lista global
    resposta = resposta_bot(historico_mensagens)
    historico_mensagens.append(('assistant', resposta))

    bot.reply_to(mensagem_telegram, f'Bot: {resposta}')
    print(f'Bot: {resposta}')

# Inicia o bot para verificar mensagens continuamente
bot.polling()
